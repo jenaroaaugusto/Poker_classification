{
 "cells": [
  {
   "cell_type": "code",
   "execution_count": 3,
   "metadata": {},
   "outputs": [],
   "source": [
    "import csv\n",
    "import math"
   ]
  },
  {
   "cell_type": "code",
   "execution_count": 4,
   "metadata": {},
   "outputs": [],
   "source": [
    "import pandas as pd"
   ]
  },
  {
   "cell_type": "code",
   "execution_count": 5,
   "metadata": {},
   "outputs": [],
   "source": [
    "training_file= pd.read_csv('poker-hand-training.data')\n",
    "teste_file =pd.read_csv('poker-hand-testing.data')\n",
    "test_file=teste_file.values.tolist()\n"
   ]
  },
  {
   "cell_type": "code",
   "execution_count": 4,
   "metadata": {},
   "outputs": [
    {
     "data": {
      "text/html": [
       "<div>\n",
       "<style scoped>\n",
       "    .dataframe tbody tr th:only-of-type {\n",
       "        vertical-align: middle;\n",
       "    }\n",
       "\n",
       "    .dataframe tbody tr th {\n",
       "        vertical-align: top;\n",
       "    }\n",
       "\n",
       "    .dataframe thead th {\n",
       "        text-align: right;\n",
       "    }\n",
       "</style>\n",
       "<table border=\"1\" class=\"dataframe\">\n",
       "  <thead>\n",
       "    <tr style=\"text-align: right;\">\n",
       "      <th></th>\n",
       "      <th>S1</th>\n",
       "      <th>C1</th>\n",
       "      <th>S2</th>\n",
       "      <th>C2</th>\n",
       "      <th>S3</th>\n",
       "      <th>C3</th>\n",
       "      <th>S4</th>\n",
       "      <th>C4</th>\n",
       "      <th>S5</th>\n",
       "      <th>C5</th>\n",
       "      <th>CLASS</th>\n",
       "    </tr>\n",
       "  </thead>\n",
       "  <tbody>\n",
       "    <tr>\n",
       "      <th>0</th>\n",
       "      <td>1</td>\n",
       "      <td>10</td>\n",
       "      <td>1</td>\n",
       "      <td>11</td>\n",
       "      <td>1</td>\n",
       "      <td>13</td>\n",
       "      <td>1</td>\n",
       "      <td>12</td>\n",
       "      <td>1</td>\n",
       "      <td>1</td>\n",
       "      <td>9</td>\n",
       "    </tr>\n",
       "    <tr>\n",
       "      <th>1</th>\n",
       "      <td>2</td>\n",
       "      <td>11</td>\n",
       "      <td>2</td>\n",
       "      <td>13</td>\n",
       "      <td>2</td>\n",
       "      <td>10</td>\n",
       "      <td>2</td>\n",
       "      <td>12</td>\n",
       "      <td>2</td>\n",
       "      <td>1</td>\n",
       "      <td>9</td>\n",
       "    </tr>\n",
       "    <tr>\n",
       "      <th>2</th>\n",
       "      <td>3</td>\n",
       "      <td>12</td>\n",
       "      <td>3</td>\n",
       "      <td>11</td>\n",
       "      <td>3</td>\n",
       "      <td>13</td>\n",
       "      <td>3</td>\n",
       "      <td>10</td>\n",
       "      <td>3</td>\n",
       "      <td>1</td>\n",
       "      <td>9</td>\n",
       "    </tr>\n",
       "    <tr>\n",
       "      <th>3</th>\n",
       "      <td>4</td>\n",
       "      <td>10</td>\n",
       "      <td>4</td>\n",
       "      <td>11</td>\n",
       "      <td>4</td>\n",
       "      <td>1</td>\n",
       "      <td>4</td>\n",
       "      <td>13</td>\n",
       "      <td>4</td>\n",
       "      <td>12</td>\n",
       "      <td>9</td>\n",
       "    </tr>\n",
       "    <tr>\n",
       "      <th>4</th>\n",
       "      <td>4</td>\n",
       "      <td>1</td>\n",
       "      <td>4</td>\n",
       "      <td>13</td>\n",
       "      <td>4</td>\n",
       "      <td>12</td>\n",
       "      <td>4</td>\n",
       "      <td>11</td>\n",
       "      <td>4</td>\n",
       "      <td>10</td>\n",
       "      <td>9</td>\n",
       "    </tr>\n",
       "  </tbody>\n",
       "</table>\n",
       "</div>"
      ],
      "text/plain": [
       "   S1  C1  S2  C2  S3  C3  S4  C4  S5  C5  CLASS\n",
       "0   1  10   1  11   1  13   1  12   1   1      9\n",
       "1   2  11   2  13   2  10   2  12   2   1      9\n",
       "2   3  12   3  11   3  13   3  10   3   1      9\n",
       "3   4  10   4  11   4   1   4  13   4  12      9\n",
       "4   4   1   4  13   4  12   4  11   4  10      9"
      ]
     },
     "execution_count": 4,
     "metadata": {},
     "output_type": "execute_result"
    }
   ],
   "source": [
    " training_file.head()"
   ]
  },
  {
   "cell_type": "code",
   "execution_count": 5,
   "metadata": {},
   "outputs": [
    {
     "data": {
      "text/html": [
       "<div>\n",
       "<style scoped>\n",
       "    .dataframe tbody tr th:only-of-type {\n",
       "        vertical-align: middle;\n",
       "    }\n",
       "\n",
       "    .dataframe tbody tr th {\n",
       "        vertical-align: top;\n",
       "    }\n",
       "\n",
       "    .dataframe thead th {\n",
       "        text-align: right;\n",
       "    }\n",
       "</style>\n",
       "<table border=\"1\" class=\"dataframe\">\n",
       "  <thead>\n",
       "    <tr style=\"text-align: right;\">\n",
       "      <th></th>\n",
       "      <th>S1</th>\n",
       "      <th>C1</th>\n",
       "      <th>S2</th>\n",
       "      <th>C2</th>\n",
       "      <th>S3</th>\n",
       "      <th>C3</th>\n",
       "      <th>S4</th>\n",
       "      <th>C4</th>\n",
       "      <th>S5</th>\n",
       "      <th>C5</th>\n",
       "      <th>CLASS</th>\n",
       "    </tr>\n",
       "  </thead>\n",
       "  <tbody>\n",
       "    <tr>\n",
       "      <th>count</th>\n",
       "      <td>25010.000000</td>\n",
       "      <td>25010.000000</td>\n",
       "      <td>25010.000000</td>\n",
       "      <td>25010.000000</td>\n",
       "      <td>25010.000000</td>\n",
       "      <td>25010.000000</td>\n",
       "      <td>25010.000000</td>\n",
       "      <td>25010.000000</td>\n",
       "      <td>25010.000000</td>\n",
       "      <td>25010.000000</td>\n",
       "      <td>25010.000000</td>\n",
       "    </tr>\n",
       "    <tr>\n",
       "      <th>mean</th>\n",
       "      <td>2.508756</td>\n",
       "      <td>6.995242</td>\n",
       "      <td>2.497721</td>\n",
       "      <td>7.014194</td>\n",
       "      <td>2.510236</td>\n",
       "      <td>7.014154</td>\n",
       "      <td>2.495922</td>\n",
       "      <td>6.942463</td>\n",
       "      <td>2.497321</td>\n",
       "      <td>6.962735</td>\n",
       "      <td>0.621152</td>\n",
       "    </tr>\n",
       "    <tr>\n",
       "      <th>std</th>\n",
       "      <td>1.116483</td>\n",
       "      <td>3.749805</td>\n",
       "      <td>1.121767</td>\n",
       "      <td>3.766974</td>\n",
       "      <td>1.123148</td>\n",
       "      <td>3.744974</td>\n",
       "      <td>1.116009</td>\n",
       "      <td>3.747147</td>\n",
       "      <td>1.118732</td>\n",
       "      <td>3.741579</td>\n",
       "      <td>0.788361</td>\n",
       "    </tr>\n",
       "    <tr>\n",
       "      <th>min</th>\n",
       "      <td>1.000000</td>\n",
       "      <td>1.000000</td>\n",
       "      <td>1.000000</td>\n",
       "      <td>1.000000</td>\n",
       "      <td>1.000000</td>\n",
       "      <td>1.000000</td>\n",
       "      <td>1.000000</td>\n",
       "      <td>1.000000</td>\n",
       "      <td>1.000000</td>\n",
       "      <td>1.000000</td>\n",
       "      <td>0.000000</td>\n",
       "    </tr>\n",
       "    <tr>\n",
       "      <th>25%</th>\n",
       "      <td>2.000000</td>\n",
       "      <td>4.000000</td>\n",
       "      <td>1.000000</td>\n",
       "      <td>4.000000</td>\n",
       "      <td>2.000000</td>\n",
       "      <td>4.000000</td>\n",
       "      <td>1.000000</td>\n",
       "      <td>4.000000</td>\n",
       "      <td>1.000000</td>\n",
       "      <td>4.000000</td>\n",
       "      <td>0.000000</td>\n",
       "    </tr>\n",
       "    <tr>\n",
       "      <th>50%</th>\n",
       "      <td>3.000000</td>\n",
       "      <td>7.000000</td>\n",
       "      <td>2.000000</td>\n",
       "      <td>7.000000</td>\n",
       "      <td>3.000000</td>\n",
       "      <td>7.000000</td>\n",
       "      <td>2.000000</td>\n",
       "      <td>7.000000</td>\n",
       "      <td>3.000000</td>\n",
       "      <td>7.000000</td>\n",
       "      <td>1.000000</td>\n",
       "    </tr>\n",
       "    <tr>\n",
       "      <th>75%</th>\n",
       "      <td>4.000000</td>\n",
       "      <td>10.000000</td>\n",
       "      <td>4.000000</td>\n",
       "      <td>10.000000</td>\n",
       "      <td>4.000000</td>\n",
       "      <td>10.000000</td>\n",
       "      <td>3.000000</td>\n",
       "      <td>10.000000</td>\n",
       "      <td>3.000000</td>\n",
       "      <td>10.000000</td>\n",
       "      <td>1.000000</td>\n",
       "    </tr>\n",
       "    <tr>\n",
       "      <th>max</th>\n",
       "      <td>4.000000</td>\n",
       "      <td>13.000000</td>\n",
       "      <td>4.000000</td>\n",
       "      <td>13.000000</td>\n",
       "      <td>4.000000</td>\n",
       "      <td>13.000000</td>\n",
       "      <td>4.000000</td>\n",
       "      <td>13.000000</td>\n",
       "      <td>4.000000</td>\n",
       "      <td>13.000000</td>\n",
       "      <td>9.000000</td>\n",
       "    </tr>\n",
       "  </tbody>\n",
       "</table>\n",
       "</div>"
      ],
      "text/plain": [
       "                 S1            C1            S2            C2            S3  \\\n",
       "count  25010.000000  25010.000000  25010.000000  25010.000000  25010.000000   \n",
       "mean       2.508756      6.995242      2.497721      7.014194      2.510236   \n",
       "std        1.116483      3.749805      1.121767      3.766974      1.123148   \n",
       "min        1.000000      1.000000      1.000000      1.000000      1.000000   \n",
       "25%        2.000000      4.000000      1.000000      4.000000      2.000000   \n",
       "50%        3.000000      7.000000      2.000000      7.000000      3.000000   \n",
       "75%        4.000000     10.000000      4.000000     10.000000      4.000000   \n",
       "max        4.000000     13.000000      4.000000     13.000000      4.000000   \n",
       "\n",
       "                 C3            S4            C4            S5            C5  \\\n",
       "count  25010.000000  25010.000000  25010.000000  25010.000000  25010.000000   \n",
       "mean       7.014154      2.495922      6.942463      2.497321      6.962735   \n",
       "std        3.744974      1.116009      3.747147      1.118732      3.741579   \n",
       "min        1.000000      1.000000      1.000000      1.000000      1.000000   \n",
       "25%        4.000000      1.000000      4.000000      1.000000      4.000000   \n",
       "50%        7.000000      2.000000      7.000000      3.000000      7.000000   \n",
       "75%       10.000000      3.000000     10.000000      3.000000     10.000000   \n",
       "max       13.000000      4.000000     13.000000      4.000000     13.000000   \n",
       "\n",
       "              CLASS  \n",
       "count  25010.000000  \n",
       "mean       0.621152  \n",
       "std        0.788361  \n",
       "min        0.000000  \n",
       "25%        0.000000  \n",
       "50%        1.000000  \n",
       "75%        1.000000  \n",
       "max        9.000000  "
      ]
     },
     "execution_count": 5,
     "metadata": {},
     "output_type": "execute_result"
    }
   ],
   "source": [
    " training_file.describe()"
   ]
  },
  {
   "cell_type": "code",
   "execution_count": 6,
   "metadata": {},
   "outputs": [
    {
     "data": {
      "text/plain": [
       "S1       int64\n",
       "C1       int64\n",
       "S2       int64\n",
       "C2       int64\n",
       "S3       int64\n",
       "C3       int64\n",
       "S4       int64\n",
       "C4       int64\n",
       "S5       int64\n",
       "C5       int64\n",
       "CLASS    int64\n",
       "dtype: object"
      ]
     },
     "execution_count": 6,
     "metadata": {},
     "output_type": "execute_result"
    }
   ],
   "source": [
    "training_file.dtypes"
   ]
  },
  {
   "cell_type": "code",
   "execution_count": 7,
   "metadata": {},
   "outputs": [
    {
     "data": {
      "text/plain": [
       "Index(['S1', 'C1', 'S2', 'C2', 'S3', 'C3', 'S4', 'C4', 'S5', 'C5', 'CLASS'], dtype='object')"
      ]
     },
     "execution_count": 7,
     "metadata": {},
     "output_type": "execute_result"
    }
   ],
   "source": [
    "training_file.columns"
   ]
  },
  {
   "cell_type": "code",
   "execution_count": 8,
   "metadata": {},
   "outputs": [],
   "source": [
    "#training_file[\"S1\"]"
   ]
  },
  {
   "cell_type": "code",
   "execution_count": 9,
   "metadata": {},
   "outputs": [
    {
     "data": {
      "text/plain": [
       "4    6312\n",
       "2    6298\n",
       "3    6250\n",
       "1    6150\n",
       "Name: S1, dtype: int64"
      ]
     },
     "execution_count": 9,
     "metadata": {},
     "output_type": "execute_result"
    }
   ],
   "source": [
    "training_file[\"S1\"].value_counts()"
   ]
  },
  {
   "cell_type": "code",
   "execution_count": 10,
   "metadata": {},
   "outputs": [
    {
     "data": {
      "text/plain": [
       "0    12493\n",
       "1    10599\n",
       "2     1206\n",
       "3      513\n",
       "4       93\n",
       "5       54\n",
       "6       36\n",
       "7        6\n",
       "9        5\n",
       "8        5\n",
       "Name: CLASS, dtype: int64"
      ]
     },
     "execution_count": 10,
     "metadata": {},
     "output_type": "execute_result"
    }
   ],
   "source": [
    "training_file[\"CLASS\"].value_counts()"
   ]
  },
  {
   "cell_type": "code",
   "execution_count": 11,
   "metadata": {},
   "outputs": [
    {
     "data": {
      "text/html": [
       "<div>\n",
       "<style scoped>\n",
       "    .dataframe tbody tr th:only-of-type {\n",
       "        vertical-align: middle;\n",
       "    }\n",
       "\n",
       "    .dataframe tbody tr th {\n",
       "        vertical-align: top;\n",
       "    }\n",
       "\n",
       "    .dataframe thead th {\n",
       "        text-align: right;\n",
       "    }\n",
       "</style>\n",
       "<table border=\"1\" class=\"dataframe\">\n",
       "  <thead>\n",
       "    <tr style=\"text-align: right;\">\n",
       "      <th></th>\n",
       "      <th>S1</th>\n",
       "      <th>C1</th>\n",
       "      <th>S2</th>\n",
       "      <th>C2</th>\n",
       "      <th>S3</th>\n",
       "      <th>C3</th>\n",
       "      <th>S4</th>\n",
       "      <th>C4</th>\n",
       "      <th>S5</th>\n",
       "      <th>C5</th>\n",
       "    </tr>\n",
       "    <tr>\n",
       "      <th>CLASS</th>\n",
       "      <th></th>\n",
       "      <th></th>\n",
       "      <th></th>\n",
       "      <th></th>\n",
       "      <th></th>\n",
       "      <th></th>\n",
       "      <th></th>\n",
       "      <th></th>\n",
       "      <th></th>\n",
       "      <th></th>\n",
       "    </tr>\n",
       "  </thead>\n",
       "  <tbody>\n",
       "    <tr>\n",
       "      <th>0</th>\n",
       "      <td>2.507244</td>\n",
       "      <td>6.985272</td>\n",
       "      <td>2.501161</td>\n",
       "      <td>7.037701</td>\n",
       "      <td>2.512767</td>\n",
       "      <td>7.046746</td>\n",
       "      <td>2.493476</td>\n",
       "      <td>6.905707</td>\n",
       "      <td>2.512047</td>\n",
       "      <td>6.954855</td>\n",
       "    </tr>\n",
       "    <tr>\n",
       "      <th>1</th>\n",
       "      <td>2.501934</td>\n",
       "      <td>6.994716</td>\n",
       "      <td>2.494103</td>\n",
       "      <td>7.000377</td>\n",
       "      <td>2.502972</td>\n",
       "      <td>6.987546</td>\n",
       "      <td>2.494669</td>\n",
       "      <td>6.977168</td>\n",
       "      <td>2.479762</td>\n",
       "      <td>6.991414</td>\n",
       "    </tr>\n",
       "    <tr>\n",
       "      <th>2</th>\n",
       "      <td>2.557214</td>\n",
       "      <td>7.196517</td>\n",
       "      <td>2.495025</td>\n",
       "      <td>6.892206</td>\n",
       "      <td>2.509950</td>\n",
       "      <td>6.927032</td>\n",
       "      <td>2.564677</td>\n",
       "      <td>7.018242</td>\n",
       "      <td>2.481758</td>\n",
       "      <td>6.893864</td>\n",
       "    </tr>\n",
       "    <tr>\n",
       "      <th>3</th>\n",
       "      <td>2.557505</td>\n",
       "      <td>6.680312</td>\n",
       "      <td>2.481481</td>\n",
       "      <td>6.920078</td>\n",
       "      <td>2.567251</td>\n",
       "      <td>6.844055</td>\n",
       "      <td>2.477583</td>\n",
       "      <td>6.785575</td>\n",
       "      <td>2.497076</td>\n",
       "      <td>6.623782</td>\n",
       "    </tr>\n",
       "    <tr>\n",
       "      <th>4</th>\n",
       "      <td>2.397849</td>\n",
       "      <td>7.516129</td>\n",
       "      <td>2.440860</td>\n",
       "      <td>7.892473</td>\n",
       "      <td>2.569892</td>\n",
       "      <td>7.784946</td>\n",
       "      <td>2.301075</td>\n",
       "      <td>7.483871</td>\n",
       "      <td>2.612903</td>\n",
       "      <td>7.430108</td>\n",
       "    </tr>\n",
       "    <tr>\n",
       "      <th>5</th>\n",
       "      <td>2.703704</td>\n",
       "      <td>7.222222</td>\n",
       "      <td>2.703704</td>\n",
       "      <td>6.648148</td>\n",
       "      <td>2.703704</td>\n",
       "      <td>6.907407</td>\n",
       "      <td>2.703704</td>\n",
       "      <td>6.907407</td>\n",
       "      <td>2.703704</td>\n",
       "      <td>7.055556</td>\n",
       "    </tr>\n",
       "    <tr>\n",
       "      <th>6</th>\n",
       "      <td>2.611111</td>\n",
       "      <td>6.944444</td>\n",
       "      <td>2.472222</td>\n",
       "      <td>6.250000</td>\n",
       "      <td>2.555556</td>\n",
       "      <td>6.916667</td>\n",
       "      <td>2.055556</td>\n",
       "      <td>7.333333</td>\n",
       "      <td>2.333333</td>\n",
       "      <td>6.861111</td>\n",
       "    </tr>\n",
       "    <tr>\n",
       "      <th>7</th>\n",
       "      <td>3.166667</td>\n",
       "      <td>6.666667</td>\n",
       "      <td>2.833333</td>\n",
       "      <td>6.500000</td>\n",
       "      <td>2.333333</td>\n",
       "      <td>6.500000</td>\n",
       "      <td>1.333333</td>\n",
       "      <td>7.166667</td>\n",
       "      <td>3.333333</td>\n",
       "      <td>9.333333</td>\n",
       "    </tr>\n",
       "    <tr>\n",
       "      <th>8</th>\n",
       "      <td>2.200000</td>\n",
       "      <td>3.600000</td>\n",
       "      <td>2.200000</td>\n",
       "      <td>5.600000</td>\n",
       "      <td>2.200000</td>\n",
       "      <td>5.800000</td>\n",
       "      <td>2.200000</td>\n",
       "      <td>5.600000</td>\n",
       "      <td>2.200000</td>\n",
       "      <td>7.400000</td>\n",
       "    </tr>\n",
       "    <tr>\n",
       "      <th>9</th>\n",
       "      <td>2.800000</td>\n",
       "      <td>8.800000</td>\n",
       "      <td>2.800000</td>\n",
       "      <td>11.800000</td>\n",
       "      <td>2.800000</td>\n",
       "      <td>9.800000</td>\n",
       "      <td>2.800000</td>\n",
       "      <td>11.600000</td>\n",
       "      <td>2.800000</td>\n",
       "      <td>5.000000</td>\n",
       "    </tr>\n",
       "  </tbody>\n",
       "</table>\n",
       "</div>"
      ],
      "text/plain": [
       "             S1        C1        S2         C2        S3        C3        S4  \\\n",
       "CLASS                                                                          \n",
       "0      2.507244  6.985272  2.501161   7.037701  2.512767  7.046746  2.493476   \n",
       "1      2.501934  6.994716  2.494103   7.000377  2.502972  6.987546  2.494669   \n",
       "2      2.557214  7.196517  2.495025   6.892206  2.509950  6.927032  2.564677   \n",
       "3      2.557505  6.680312  2.481481   6.920078  2.567251  6.844055  2.477583   \n",
       "4      2.397849  7.516129  2.440860   7.892473  2.569892  7.784946  2.301075   \n",
       "5      2.703704  7.222222  2.703704   6.648148  2.703704  6.907407  2.703704   \n",
       "6      2.611111  6.944444  2.472222   6.250000  2.555556  6.916667  2.055556   \n",
       "7      3.166667  6.666667  2.833333   6.500000  2.333333  6.500000  1.333333   \n",
       "8      2.200000  3.600000  2.200000   5.600000  2.200000  5.800000  2.200000   \n",
       "9      2.800000  8.800000  2.800000  11.800000  2.800000  9.800000  2.800000   \n",
       "\n",
       "              C4        S5        C5  \n",
       "CLASS                                 \n",
       "0       6.905707  2.512047  6.954855  \n",
       "1       6.977168  2.479762  6.991414  \n",
       "2       7.018242  2.481758  6.893864  \n",
       "3       6.785575  2.497076  6.623782  \n",
       "4       7.483871  2.612903  7.430108  \n",
       "5       6.907407  2.703704  7.055556  \n",
       "6       7.333333  2.333333  6.861111  \n",
       "7       7.166667  3.333333  9.333333  \n",
       "8       5.600000  2.200000  7.400000  \n",
       "9      11.600000  2.800000  5.000000  "
      ]
     },
     "execution_count": 11,
     "metadata": {},
     "output_type": "execute_result"
    }
   ],
   "source": [
    "training_file.groupby(\"CLASS\").mean()"
   ]
  },
  {
   "cell_type": "code",
   "execution_count": 6,
   "metadata": {},
   "outputs": [],
   "source": [
    "df0=training_file[training_file[\"CLASS\"]==0]\n",
    "#print(df0)"
   ]
  },
  {
   "cell_type": "code",
   "execution_count": 7,
   "metadata": {},
   "outputs": [],
   "source": [
    "df1=training_file[training_file[\"CLASS\"]==1]\n",
    "#print(df1)"
   ]
  },
  {
   "cell_type": "code",
   "execution_count": 8,
   "metadata": {},
   "outputs": [],
   "source": [
    "df2=training_file[training_file[\"CLASS\"]==2]\n",
    "#print(df2)"
   ]
  },
  {
   "cell_type": "code",
   "execution_count": 9,
   "metadata": {},
   "outputs": [],
   "source": [
    "df3=training_file[training_file[\"CLASS\"]==3]\n",
    "#print(df3)"
   ]
  },
  {
   "cell_type": "code",
   "execution_count": 10,
   "metadata": {},
   "outputs": [],
   "source": [
    "df4=training_file[training_file[\"CLASS\"]==4]\n",
    "#print(df4)"
   ]
  },
  {
   "cell_type": "code",
   "execution_count": 11,
   "metadata": {},
   "outputs": [],
   "source": [
    "df5=training_file[training_file[\"CLASS\"]==5]\n",
    "#print(df5,'\\n')\n",
    "\n",
    "#print(len(df5))"
   ]
  },
  {
   "cell_type": "code",
   "execution_count": 12,
   "metadata": {},
   "outputs": [],
   "source": [
    "df6=training_file[training_file[\"CLASS\"]==6]\n",
    "#print(df6)"
   ]
  },
  {
   "cell_type": "code",
   "execution_count": 13,
   "metadata": {},
   "outputs": [],
   "source": [
    "df7=training_file[training_file[\"CLASS\"]==7]\n",
    "#print(df7)\n",
    "#print(len(df7))"
   ]
  },
  {
   "cell_type": "code",
   "execution_count": 14,
   "metadata": {},
   "outputs": [],
   "source": [
    "df8=training_file[training_file[\"CLASS\"]==8]\n",
    "#print(df8)"
   ]
  },
  {
   "cell_type": "code",
   "execution_count": 15,
   "metadata": {},
   "outputs": [],
   "source": [
    "df9=training_file[training_file[\"CLASS\"]==9]\n",
    "#print(df9)"
   ]
  },
  {
   "cell_type": "code",
   "execution_count": 22,
   "metadata": {},
   "outputs": [
    {
     "data": {
      "text/plain": [
       "S1        2.8\n",
       "C1        8.8\n",
       "S2        2.8\n",
       "C2       11.8\n",
       "S3        2.8\n",
       "C3        9.8\n",
       "S4        2.8\n",
       "C4       11.6\n",
       "S5        2.8\n",
       "C5        5.0\n",
       "CLASS     9.0\n",
       "dtype: float64"
      ]
     },
     "execution_count": 22,
     "metadata": {},
     "output_type": "execute_result"
    }
   ],
   "source": [
    "df9.mean()"
   ]
  },
  {
   "cell_type": "code",
   "execution_count": 23,
   "metadata": {},
   "outputs": [
    {
     "data": {
      "text/plain": [
       "S1        2.8\n",
       "C1        8.8\n",
       "S2        2.8\n",
       "C2       11.8\n",
       "S3        2.8\n",
       "C3        9.8\n",
       "S4        2.8\n",
       "C4       11.6\n",
       "S5        2.8\n",
       "C5        5.0\n",
       "CLASS     9.0\n",
       "dtype: float64"
      ]
     },
     "execution_count": 23,
     "metadata": {},
     "output_type": "execute_result"
    }
   ],
   "source": [
    "df9.mean(axis = 0)"
   ]
  },
  {
   "cell_type": "code",
   "execution_count": 24,
   "metadata": {},
   "outputs": [
    {
     "data": {
      "text/plain": [
       "0    5.545455\n",
       "1    6.000000\n",
       "2    6.454545\n",
       "3    6.909091\n",
       "4    6.909091\n",
       "dtype: float64"
      ]
     },
     "execution_count": 24,
     "metadata": {},
     "output_type": "execute_result"
    }
   ],
   "source": [
    "df9.mean(axis = 1,skipna = True)"
   ]
  },
  {
   "cell_type": "code",
   "execution_count": 25,
   "metadata": {},
   "outputs": [
    {
     "data": {
      "text/html": [
       "<div>\n",
       "<style scoped>\n",
       "    .dataframe tbody tr th:only-of-type {\n",
       "        vertical-align: middle;\n",
       "    }\n",
       "\n",
       "    .dataframe tbody tr th {\n",
       "        vertical-align: top;\n",
       "    }\n",
       "\n",
       "    .dataframe thead th {\n",
       "        text-align: right;\n",
       "    }\n",
       "</style>\n",
       "<table border=\"1\" class=\"dataframe\">\n",
       "  <thead>\n",
       "    <tr style=\"text-align: right;\">\n",
       "      <th></th>\n",
       "      <th>0</th>\n",
       "      <th>1</th>\n",
       "      <th>2</th>\n",
       "    </tr>\n",
       "  </thead>\n",
       "  <tbody>\n",
       "    <tr>\n",
       "      <th>0</th>\n",
       "      <td>1</td>\n",
       "      <td>20</td>\n",
       "      <td>1</td>\n",
       "    </tr>\n",
       "    <tr>\n",
       "      <th>1</th>\n",
       "      <td>2</td>\n",
       "      <td>21</td>\n",
       "      <td>0</td>\n",
       "    </tr>\n",
       "    <tr>\n",
       "      <th>2</th>\n",
       "      <td>3</td>\n",
       "      <td>22</td>\n",
       "      <td>1</td>\n",
       "    </tr>\n",
       "    <tr>\n",
       "      <th>3</th>\n",
       "      <td>4</td>\n",
       "      <td>22</td>\n",
       "      <td>0</td>\n",
       "    </tr>\n",
       "  </tbody>\n",
       "</table>\n",
       "</div>"
      ],
      "text/plain": [
       "   0   1  2\n",
       "0  1  20  1\n",
       "1  2  21  0\n",
       "2  3  22  1\n",
       "3  4  22  0"
      ]
     },
     "execution_count": 25,
     "metadata": {},
     "output_type": "execute_result"
    }
   ],
   "source": [
    "dx = pd.DataFrame([[1,20,1], [2,21,0], [3,22,1], [4,22,0]])\n",
    "dx"
   ]
  },
  {
   "cell_type": "code",
   "execution_count": 26,
   "metadata": {},
   "outputs": [
    {
     "name": "stdout",
     "output_type": "stream",
     "text": [
      "4 \n",
      "\n",
      "[2.0, 1.4142135623730951, 21.0, 1.4142135623730951, 1.0, 0.0]\n"
     ]
    }
   ],
   "source": [
    "A=dx[dx[2]==1].mean(axis=0).tolist()\n",
    "B=dx[dx[2]==1].std().tolist()\n",
    "print(len(dx),'\\n')\n",
    "BD=[]\n",
    "for i in range(len(A)):    \n",
    "    BD.append(A[i])\n",
    "    BD.append(B[i]) \n",
    "    \n",
    "#B=dx[dx[2]==1].std()\n",
    "print(BD)"
   ]
  },
  {
   "cell_type": "code",
   "execution_count": 27,
   "metadata": {},
   "outputs": [],
   "source": [
    "a=[]\n",
    "\n",
    "doc0=df0.to_dict()\n",
    "doc=df8.to_dict()\n",
    "doc2=df9.to_dict()\n",
    "a=a.append(df0)\n",
    "doc.update(doc2)\n",
    "#print (df8)\n",
    "#print(\"\\n\")\n",
    "#print(df9,'\\n')\n",
    "\n",
    "#print(doc,\"\\n\")\n",
    "\n",
    "#print(a)"
   ]
  },
  {
   "cell_type": "code",
   "execution_count": 28,
   "metadata": {},
   "outputs": [
    {
     "name": "stdout",
     "output_type": "stream",
     "text": [
      "<class 'list'>\n"
     ]
    },
    {
     "data": {
      "text/plain": [
       "[[1, 10, 1, 11, 1, 13, 1, 12, 1, 1, 9],\n",
       " [2, 11, 2, 13, 2, 10, 2, 12, 2, 1, 9],\n",
       " [3, 12, 3, 11, 3, 13, 3, 10, 3, 1, 9],\n",
       " [4, 10, 4, 11, 4, 1, 4, 13, 4, 12, 9],\n",
       " [4, 1, 4, 13, 4, 12, 4, 11, 4, 10, 9]]"
      ]
     },
     "execution_count": 28,
     "metadata": {},
     "output_type": "execute_result"
    }
   ],
   "source": [
    "x=df9.mean(axis=1).tolist()\n",
    "print(type(x))\n",
    "\n",
    "xb=[]\n",
    "xb=df9.values.tolist()\n",
    "xb"
   ]
  },
  {
   "cell_type": "code",
   "execution_count": 23,
   "metadata": {},
   "outputs": [],
   "source": [
    "    summarizado={}\n",
    "    #0\n",
    "    AM9=[]\n",
    "    SD9=[]\n",
    "    AM9=df0.mean(axis=1).tolist()\n",
    "\n",
    "    SD9=df0.std(axis=1).tolist()\n",
    "\n",
    "    BD=[]\n",
    "    BD1=[]\n",
    "    BD2=[]\n",
    "    for i in range(len(df0)):\n",
    "        BD1.append(AM9[i])\n",
    "        BD2.append(SD9[i])\n",
    "    BD=list(zip(BD1,BD2))\n",
    "    summarizado[0]=BD\n",
    "\n",
    "    #1\n",
    "    AM9=[]\n",
    "    SD9=[]\n",
    "    AM9=df1.mean(axis=1).tolist()\n",
    "\n",
    "    SD9=df1.std(axis=1).tolist()\n",
    "\n",
    "    BD=[]\n",
    "    BD1=[]\n",
    "    BD2=[]\n",
    "    for i in range(len(df1)):\n",
    "        BD1.append(AM9[i])\n",
    "        BD2.append(SD9[i])\n",
    "    BD=list(zip(BD1,BD2))\n",
    "    summarizado[1]=BD\n",
    "    #2\n",
    "    AM9=[]\n",
    "    SD9=[]\n",
    "    AM9=df2.mean(axis=1).tolist()\n",
    "\n",
    "    SD9=df2.std(axis=1).tolist()\n",
    "\n",
    "    BD=[]\n",
    "    BD1=[]\n",
    "    BD2=[]\n",
    "    for i in range(len(df2)):\n",
    "        BD1.append(AM9[i])\n",
    "        BD2.append(SD9[i])\n",
    "    \n",
    "    BD=list(zip(BD1,BD2))\n",
    "    \n",
    "    summarizado[2]=BD\n",
    "\n",
    "    #3\n",
    "    AM9=[]\n",
    "    SD9=[]\n",
    "    AM9=df3.mean(axis=1).tolist()\n",
    "\n",
    "    SD9=df3.std(axis=1).tolist()\n",
    "\n",
    "    BD=[]\n",
    "    BD1=[]\n",
    "    BD2=[]\n",
    "    for i in range(len(df3)):\n",
    "        BD1.append(AM9[i])\n",
    "        BD2.append(SD9[i])\n",
    "    BD=list(zip(BD1,BD2))\n",
    "    summarizado[3]=BD\n",
    "    #4\n",
    "    AM9=[]\n",
    "    SD9=[]\n",
    "    AM9=df4.mean(axis=1).tolist()\n",
    "\n",
    "    SD9=df4.std(axis=1).tolist()\n",
    "\n",
    "    BD=[]\n",
    "    BD1=[]\n",
    "    BD2=[]\n",
    "    for i in range(len(df8)):\n",
    "        BD1.append(AM9[i])\n",
    "        BD2.append(SD9[i])\n",
    "    \n",
    "    BD=list(zip(BD1,BD2))\n",
    "    summarizado[4]=BD\n",
    "    #5\n",
    "    AM9=[]\n",
    "    SD9=[]\n",
    "    AM9=df5.mean(axis=1).tolist()\n",
    "\n",
    "    SD9=df5.std(axis=1).tolist()\n",
    "\n",
    "    BD=[]\n",
    "    BD1=[]\n",
    "    BD2=[]\n",
    "    for i in range(len(df5)):\n",
    "        BD1.append(AM9[i])\n",
    "        BD2.append(SD9[i])\n",
    "    \n",
    "    BD=list(zip(BD1,BD2))\n",
    "    summarizado[5]=BD\n",
    "    #6\n",
    "    AM9=[]\n",
    "    SD9=[]\n",
    "    AM9=df6.mean(axis=1).tolist()\n",
    "\n",
    "    SD9=df6.std(axis=1).tolist()\n",
    "\n",
    "    BD=[]\n",
    "    BD1=[]\n",
    "    BD2=[]\n",
    "    for i in range(len(df6)):\n",
    "        BD1.append(AM9[i])\n",
    "        BD2.append(SD9[i])\n",
    "    \n",
    "    BD=list(zip(BD1,BD2))\n",
    "    summarizado[6]=BD\n",
    "\n",
    "\n",
    "    AM9=[]\n",
    "    SD9=[]\n",
    "    AM9=df7.mean(axis=1).tolist()\n",
    "\n",
    "    SD9=df7.std(axis=1).tolist()\n",
    "    #7\n",
    "    BD=[]\n",
    "    BD1=[]\n",
    "    BD2=[]\n",
    "    for i in range(len(df7)):\n",
    "        BD1.append(AM9[i])\n",
    "        BD2.append(SD9[i])\n",
    "    \n",
    "    BD=list(zip(BD1,BD2))\n",
    "    summarizado[7]=BD\n",
    "    #8\n",
    "    AM9=[]\n",
    "    SD9=[]\n",
    "    AM9=df8.mean(axis=1).tolist()\n",
    "\n",
    "    SD9=df8.std(axis=1).tolist()\n",
    "\n",
    "    BD=[]\n",
    "    BD1=[]\n",
    "    BD2=[]\n",
    "    for i in range(len(df8)):\n",
    "        BD1.append(AM9[i])\n",
    "        BD2.append(SD9[i])\n",
    "    \n",
    "    BD=list(zip(BD1,BD2))\n",
    "    summarizado[8]=BD\n",
    "    AM9=[]\n",
    "    SD9=[]\n",
    "    AM9=df9.mean(axis=1).tolist()\n",
    "    SD9=df9.std(axis=1).tolist()\n",
    "    BD=[]\n",
    "    BD1=[]\n",
    "    BD2=[]\n",
    "    for i in range(len(df9)):\n",
    "        BD1.append(AM9[i])\n",
    "        BD2.append(SD9[i])\n",
    "    \n",
    "    BD=list(zip(BD1,BD2))\n",
    "    summarizado[9]=BD\n",
    "\n",
    "    \n",
    "    #print(\"DIC\",summarizado,len(summarizado))"
   ]
  },
  {
   "cell_type": "code",
   "execution_count": 38,
   "metadata": {},
   "outputs": [],
   "source": [
    "def CalcularPro(x,madia,desvio):\n",
    "    expoente = math.exp(-(math.pow(x-madia,2)/(2*math.pow(desvio,2))))\n",
    "    return (1 / (math.sqrt(2*math.pi) * desvio)) * expoente"
   ]
  },
  {
   "cell_type": "code",
   "execution_count": 43,
   "metadata": {},
   "outputs": [],
   "source": [
    "def provabilidesporclass(summarizado,test_file):\n",
    "    probabilidades={}\n",
    "    for classe,clasummarizado in summarizado.items():\n",
    "        \n",
    "        probabilidades[classe]=1\n",
    "        print(\"Class\",clasummarizado,\"\\n\")\n",
    "        for i in range(len(clasummarizado)):\n",
    "            media,desvio= clasummarizado[i]\n",
    "            x = test_file[i]\n",
    "            probabilidades[classe]*=CalcularPro(x,media,desvio)\n",
    "    \n",
    "    return probabilidades\n"
   ]
  },
  {
   "cell_type": "code",
   "execution_count": 44,
   "metadata": {},
   "outputs": [],
   "source": [
    "def previsao(summarizado, teste_file):\n",
    "    print(\"TEsste\", len(teste_file))\n",
    "    probabilidades=provabilidesporclass(summarizado,teste_file)\n",
    "    MelhorLegenda,melhorpro=None,-1\n",
    "    for Classe, pro in probabilidades.items():\n",
    "        if MelhorLegenda is None or pro> melhorpro:\n",
    "            melhorpro=pro\n",
    "            MelhorLegenda=Classe\n",
    "            \n",
    "    return MelhorLegenda\n",
    "   "
   ]
  },
  {
   "cell_type": "code",
   "execution_count": 45,
   "metadata": {},
   "outputs": [
    {
     "name": "stdout",
     "output_type": "stream",
     "text": [
      "TEsste 11\n",
      "Class 12493\n"
     ]
    },
    {
     "ename": "IndexError",
     "evalue": "list index out of range",
     "output_type": "error",
     "traceback": [
      "\u001b[1;31m---------------------------------------------------------------------------\u001b[0m",
      "\u001b[1;31mIndexError\u001b[0m                                Traceback (most recent call last)",
      "\u001b[1;32m<ipython-input-45-d26672fca7e4>\u001b[0m in \u001b[0;36m<module>\u001b[1;34m\u001b[0m\n\u001b[0;32m      7\u001b[0m     \u001b[1;32mreturn\u001b[0m \u001b[0mprevisao\u001b[0m\u001b[1;33m\u001b[0m\u001b[1;33m\u001b[0m\u001b[0m\n\u001b[0;32m      8\u001b[0m \u001b[0mpreve\u001b[0m\u001b[1;33m=\u001b[0m\u001b[1;33m[\u001b[0m\u001b[1;33m]\u001b[0m\u001b[1;33m\u001b[0m\u001b[1;33m\u001b[0m\u001b[0m\n\u001b[1;32m----> 9\u001b[1;33m \u001b[0mpreve\u001b[0m\u001b[1;33m=\u001b[0m \u001b[0mgetPredictions\u001b[0m\u001b[1;33m(\u001b[0m\u001b[0msummarizado\u001b[0m\u001b[1;33m,\u001b[0m \u001b[0mtest_file\u001b[0m\u001b[1;33m)\u001b[0m\u001b[1;33m\u001b[0m\u001b[1;33m\u001b[0m\u001b[0m\n\u001b[0m",
      "\u001b[1;32m<ipython-input-45-d26672fca7e4>\u001b[0m in \u001b[0;36mgetPredictions\u001b[1;34m(summarizado, teste_file)\u001b[0m\n\u001b[0;32m      3\u001b[0m \u001b[1;33m\u001b[0m\u001b[0m\n\u001b[0;32m      4\u001b[0m     \u001b[1;32mfor\u001b[0m \u001b[0mi\u001b[0m \u001b[1;32min\u001b[0m \u001b[0mrange\u001b[0m\u001b[1;33m(\u001b[0m\u001b[0mlen\u001b[0m\u001b[1;33m(\u001b[0m\u001b[0mteste_file\u001b[0m\u001b[1;33m)\u001b[0m\u001b[1;33m)\u001b[0m\u001b[1;33m:\u001b[0m\u001b[1;33m\u001b[0m\u001b[1;33m\u001b[0m\u001b[0m\n\u001b[1;32m----> 5\u001b[1;33m         \u001b[0mresultado\u001b[0m\u001b[1;33m=\u001b[0m\u001b[0mprevisao\u001b[0m\u001b[1;33m(\u001b[0m\u001b[0msummarizado\u001b[0m\u001b[1;33m,\u001b[0m\u001b[0mteste_file\u001b[0m\u001b[1;33m[\u001b[0m\u001b[0mi\u001b[0m\u001b[1;33m]\u001b[0m\u001b[1;33m)\u001b[0m\u001b[1;33m\u001b[0m\u001b[1;33m\u001b[0m\u001b[0m\n\u001b[0m\u001b[0;32m      6\u001b[0m         \u001b[0mprevisoes\u001b[0m\u001b[1;33m.\u001b[0m\u001b[0mappend\u001b[0m\u001b[1;33m(\u001b[0m\u001b[0mresultado\u001b[0m\u001b[1;33m)\u001b[0m\u001b[1;33m\u001b[0m\u001b[1;33m\u001b[0m\u001b[0m\n\u001b[0;32m      7\u001b[0m     \u001b[1;32mreturn\u001b[0m \u001b[0mprevisao\u001b[0m\u001b[1;33m\u001b[0m\u001b[1;33m\u001b[0m\u001b[0m\n",
      "\u001b[1;32m<ipython-input-44-73fe752d7f80>\u001b[0m in \u001b[0;36mprevisao\u001b[1;34m(summarizado, teste_file)\u001b[0m\n\u001b[0;32m      1\u001b[0m \u001b[1;32mdef\u001b[0m \u001b[0mprevisao\u001b[0m\u001b[1;33m(\u001b[0m\u001b[0msummarizado\u001b[0m\u001b[1;33m,\u001b[0m \u001b[0mteste_file\u001b[0m\u001b[1;33m)\u001b[0m\u001b[1;33m:\u001b[0m\u001b[1;33m\u001b[0m\u001b[1;33m\u001b[0m\u001b[0m\n\u001b[0;32m      2\u001b[0m     \u001b[0mprint\u001b[0m\u001b[1;33m(\u001b[0m\u001b[1;34m\"TEsste\"\u001b[0m\u001b[1;33m,\u001b[0m \u001b[0mlen\u001b[0m\u001b[1;33m(\u001b[0m\u001b[0mteste_file\u001b[0m\u001b[1;33m)\u001b[0m\u001b[1;33m)\u001b[0m\u001b[1;33m\u001b[0m\u001b[1;33m\u001b[0m\u001b[0m\n\u001b[1;32m----> 3\u001b[1;33m     \u001b[0mprobabilidades\u001b[0m\u001b[1;33m=\u001b[0m\u001b[0mprovabilidesporclass\u001b[0m\u001b[1;33m(\u001b[0m\u001b[0msummarizado\u001b[0m\u001b[1;33m,\u001b[0m\u001b[0mteste_file\u001b[0m\u001b[1;33m)\u001b[0m\u001b[1;33m\u001b[0m\u001b[1;33m\u001b[0m\u001b[0m\n\u001b[0m\u001b[0;32m      4\u001b[0m     \u001b[0mMelhorLegenda\u001b[0m\u001b[1;33m,\u001b[0m\u001b[0mmelhorpro\u001b[0m\u001b[1;33m=\u001b[0m\u001b[1;32mNone\u001b[0m\u001b[1;33m,\u001b[0m\u001b[1;33m-\u001b[0m\u001b[1;36m1\u001b[0m\u001b[1;33m\u001b[0m\u001b[1;33m\u001b[0m\u001b[0m\n\u001b[0;32m      5\u001b[0m     \u001b[1;32mfor\u001b[0m \u001b[0mClasse\u001b[0m\u001b[1;33m,\u001b[0m \u001b[0mpro\u001b[0m \u001b[1;32min\u001b[0m \u001b[0mprobabilidades\u001b[0m\u001b[1;33m.\u001b[0m\u001b[0mitems\u001b[0m\u001b[1;33m(\u001b[0m\u001b[1;33m)\u001b[0m\u001b[1;33m:\u001b[0m\u001b[1;33m\u001b[0m\u001b[1;33m\u001b[0m\u001b[0m\n",
      "\u001b[1;32m<ipython-input-43-6e59e320b704>\u001b[0m in \u001b[0;36mprovabilidesporclass\u001b[1;34m(summarizado, test_file)\u001b[0m\n\u001b[0;32m      7\u001b[0m         \u001b[1;32mfor\u001b[0m \u001b[0mi\u001b[0m \u001b[1;32min\u001b[0m \u001b[0mrange\u001b[0m\u001b[1;33m(\u001b[0m\u001b[0mlen\u001b[0m\u001b[1;33m(\u001b[0m\u001b[0mclasummarizado\u001b[0m\u001b[1;33m)\u001b[0m\u001b[1;33m)\u001b[0m\u001b[1;33m:\u001b[0m\u001b[1;33m\u001b[0m\u001b[1;33m\u001b[0m\u001b[0m\n\u001b[0;32m      8\u001b[0m             \u001b[0mmedia\u001b[0m\u001b[1;33m,\u001b[0m\u001b[0mdesvio\u001b[0m\u001b[1;33m=\u001b[0m \u001b[0mclasummarizado\u001b[0m\u001b[1;33m[\u001b[0m\u001b[0mi\u001b[0m\u001b[1;33m]\u001b[0m\u001b[1;33m\u001b[0m\u001b[1;33m\u001b[0m\u001b[0m\n\u001b[1;32m----> 9\u001b[1;33m             \u001b[0mx\u001b[0m \u001b[1;33m=\u001b[0m \u001b[0mtest_file\u001b[0m\u001b[1;33m[\u001b[0m\u001b[0mi\u001b[0m\u001b[1;33m]\u001b[0m\u001b[1;33m\u001b[0m\u001b[1;33m\u001b[0m\u001b[0m\n\u001b[0m\u001b[0;32m     10\u001b[0m             \u001b[0mprobabilidades\u001b[0m\u001b[1;33m[\u001b[0m\u001b[0mclasse\u001b[0m\u001b[1;33m]\u001b[0m\u001b[1;33m*=\u001b[0m\u001b[0mCalcularPro\u001b[0m\u001b[1;33m(\u001b[0m\u001b[0mx\u001b[0m\u001b[1;33m,\u001b[0m\u001b[0mmedia\u001b[0m\u001b[1;33m,\u001b[0m\u001b[0mdesvio\u001b[0m\u001b[1;33m)\u001b[0m\u001b[1;33m\u001b[0m\u001b[1;33m\u001b[0m\u001b[0m\n\u001b[0;32m     11\u001b[0m \u001b[1;33m\u001b[0m\u001b[0m\n",
      "\u001b[1;31mIndexError\u001b[0m: list index out of range"
     ]
    }
   ],
   "source": [
    "def getPredictions(summarizado, teste_file):\n",
    "    previsoes=[]\n",
    "   \n",
    "    for i in range(len(teste_file)):\n",
    "        resultado=previsao(summarizado,teste_file[i])\n",
    "        previsoes.append(resultado)\n",
    "    return previsao\n",
    "preve=[]\n",
    "preve= getPredictions(summarizado, test_file)\n"
   ]
  },
  {
   "cell_type": "code",
   "execution_count": null,
   "metadata": {},
   "outputs": [],
   "source": [
    "\n"
   ]
  },
  {
   "cell_type": "code",
   "execution_count": null,
   "metadata": {},
   "outputs": [],
   "source": [
    "[5.545454545454546, 5.317210478505367, 6.0, 4.898979485566356, 6.454545454545454, 4.5025245443781055, 6.909090909090909, 4.134115273055299, 6.909090909090909, 4.134115273055299]"
   ]
  },
  {
   "cell_type": "code",
   "execution_count": null,
   "metadata": {},
   "outputs": [],
   "source": []
  }
 ],
 "metadata": {
  "kernelspec": {
   "display_name": "Python 3",
   "language": "python",
   "name": "python3"
  },
  "language_info": {
   "codemirror_mode": {
    "name": "ipython",
    "version": 3
   },
   "file_extension": ".py",
   "mimetype": "text/x-python",
   "name": "python",
   "nbconvert_exporter": "python",
   "pygments_lexer": "ipython3",
   "version": "3.6.7"
  }
 },
 "nbformat": 4,
 "nbformat_minor": 4
}
