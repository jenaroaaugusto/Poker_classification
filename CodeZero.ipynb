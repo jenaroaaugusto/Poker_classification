{
 "cells": [
  {
   "cell_type": "code",
   "execution_count": 1,
   "metadata": {},
   "outputs": [],
   "source": [
    "import pandas as pd"
   ]
  },
  {
   "cell_type": "code",
   "execution_count": 2,
   "metadata": {},
   "outputs": [],
   "source": [
    "import math"
   ]
  },
  {
   "cell_type": "code",
   "execution_count": 3,
   "metadata": {},
   "outputs": [],
   "source": [
    "training_file= pd.read_csv('poker-hand-training.data')\n",
    "teste_file =pd.read_csv('poker-hand-testing.data')\n",
    "\n",
    "test_file=teste_file.values.tolist()"
   ]
  },
  {
   "cell_type": "code",
   "execution_count": 4,
   "metadata": {},
   "outputs": [],
   "source": [
    "df0=training_file[training_file[\"CLASS\"]==0]"
   ]
  },
  {
   "cell_type": "code",
   "execution_count": 5,
   "metadata": {},
   "outputs": [],
   "source": [
    "df1=training_file[training_file[\"CLASS\"]==1]"
   ]
  },
  {
   "cell_type": "code",
   "execution_count": 6,
   "metadata": {},
   "outputs": [],
   "source": [
    "df2=training_file[training_file[\"CLASS\"]==2]"
   ]
  },
  {
   "cell_type": "code",
   "execution_count": 7,
   "metadata": {},
   "outputs": [],
   "source": [
    "df3=training_file[training_file[\"CLASS\"]==3]"
   ]
  },
  {
   "cell_type": "code",
   "execution_count": 8,
   "metadata": {},
   "outputs": [],
   "source": [
    "df4=training_file[training_file[\"CLASS\"]==4]"
   ]
  },
  {
   "cell_type": "code",
   "execution_count": 9,
   "metadata": {},
   "outputs": [],
   "source": [
    "df5=training_file[training_file[\"CLASS\"]==5]"
   ]
  },
  {
   "cell_type": "code",
   "execution_count": 10,
   "metadata": {},
   "outputs": [],
   "source": [
    "df6=training_file[training_file[\"CLASS\"]==6]"
   ]
  },
  {
   "cell_type": "code",
   "execution_count": 11,
   "metadata": {},
   "outputs": [],
   "source": [
    "df7=training_file[training_file[\"CLASS\"]==7]"
   ]
  },
  {
   "cell_type": "code",
   "execution_count": 12,
   "metadata": {},
   "outputs": [],
   "source": [
    "df8=training_file[training_file[\"CLASS\"]==8]"
   ]
  },
  {
   "cell_type": "code",
   "execution_count": 13,
   "metadata": {},
   "outputs": [],
   "source": [
    "df9=training_file[training_file[\"CLASS\"]==9]"
   ]
  },
  {
   "cell_type": "code",
   "execution_count": 14,
   "metadata": {},
   "outputs": [],
   "source": [
    "sumarizado={}\n",
    "df0list=df0.values.tolist()\n",
    "sumarizado[0]=df0list\n",
    "df1list=df1.values.tolist()\n",
    "sumarizado[1]=df1list\n",
    "df2list=df2.values.tolist()\n",
    "sumarizado[2]=df2list\n",
    "df3list=df3.values.tolist()\n",
    "sumarizado[3]=df3list\n",
    "df4list=df4.values.tolist()\n",
    "sumarizado[4]=df4list\n",
    "df5list=df5.values.tolist()\n",
    "sumarizado[5]=df5list\n",
    "df6list=df6.values.tolist()\n",
    "sumarizado[6]=df6list\n",
    "df7list=df7.values.tolist()\n",
    "sumarizado[7]=df7list\n",
    "df8list=df8.values.tolist()\n",
    "sumarizado[8]=df8list\n",
    "df9list=df9.values.tolist()\n",
    "sumarizado[9]=df9list"
   ]
  },
  {
   "cell_type": "code",
   "execution_count": 15,
   "metadata": {},
   "outputs": [],
   "source": [
    "def mean(numbers):\n",
    "    return sum(numbers)/float(len(numbers))\n",
    " #Desvio padrão "
   ]
  },
  {
   "cell_type": "code",
   "execution_count": 16,
   "metadata": {},
   "outputs": [],
   "source": [
    "def stdev(numbers): \n",
    "\tavg = mean(numbers)\n",
    "\tvariance = sum([pow(x-avg,2) for x in numbers])/float(len(numbers)-1)\n",
    "\treturn math.sqrt(variance)\n",
    " "
   ]
  },
  {
   "cell_type": "code",
   "execution_count": 17,
   "metadata": {},
   "outputs": [],
   "source": [
    "def summarize(dataset):\n",
    "   \n",
    "    summaries = [(mean(attribute), stdev(attribute)) for attribute in zip(*dataset)]\n",
    "    del summaries[-1]\n",
    "  \n",
    "    return summaries"
   ]
  },
  {
   "cell_type": "code",
   "execution_count": 18,
   "metadata": {},
   "outputs": [],
   "source": [
    "def summarizeByClass(dataset):\n",
    "\tseparated = dataset\n",
    "\tsummaries = {}\n",
    "\tfor classValue, instances in separated.items():\n",
    "\t\tsummaries[classValue] = summarize(instances)\n",
    "\t\n",
    "\t\n",
    "\treturn summaries"
   ]
  },
  {
   "cell_type": "code",
   "execution_count": 19,
   "metadata": {},
   "outputs": [],
   "source": [
    "def calculateProbability(x, mean, stdev):\n",
    "\texponent = math.exp(-(math.pow(x-mean,2)/(2*math.pow(stdev,2))))\n",
    "\treturn (1 / (math.sqrt(2*math.pi) * stdev)) * exponent"
   ]
  },
  {
   "cell_type": "code",
   "execution_count": 20,
   "metadata": {},
   "outputs": [],
   "source": [
    "def calculateClassProbabilities(summaries, inputVector):\n",
    "    probabilities = {}\n",
    "    for classValue, classSummaries in summaries.items():\n",
    "        probabilities[classValue] = 1\n",
    "        for i in range(len(classSummaries)):\n",
    "            \n",
    "            mean, stdev = classSummaries[i]\n",
    "            x = inputVector[i]\n",
    "            probabilities[classValue] *= calculateProbability(x, mean, stdev)\n",
    "    return probabilities"
   ]
  },
  {
   "cell_type": "code",
   "execution_count": 21,
   "metadata": {},
   "outputs": [],
   "source": [
    "def predict(summaries, inputVector):\n",
    "\tprobabilities = calculateClassProbabilities(summaries, inputVector)\n",
    "\tbestLabel, bestProb = None, -1\n",
    "\tfor classValue, probability in probabilities.items():\n",
    "\t\tif bestLabel is None or probability > bestProb:\n",
    "\t\t\tbestProb = probability\n",
    "\t\t\tbestLabel = classValue\n",
    "\t\n",
    "\treturn bestLabel"
   ]
  },
  {
   "cell_type": "code",
   "execution_count": 22,
   "metadata": {},
   "outputs": [],
   "source": [
    "def getPredictions(summaries, testSet):\n",
    "\tpredictions = []\n",
    "\tfor i in range(len(testSet)):\n",
    "\t\tresult = predict(summaries, testSet[i])\n",
    "\t\tpredictions.append(result)\n",
    "\treturn predictions\n"
   ]
  },
  {
   "cell_type": "code",
   "execution_count": 23,
   "metadata": {},
   "outputs": [],
   "source": [
    "def getAccuracy(testSet, predictions):\n",
    "    correct = 0\n",
    "    valorA=0\n",
    "    valorB=0\n",
    "    status=-1\n",
    "    situacao=-1\n",
    "    for i in range(len(testSet)):\n",
    "        if testSet[i][-1] == predictions[i]:\n",
    "            correct+=1\n",
    "    print(correct,\"\\n\")\n",
    "\t#Buscando qual a classe teve o maior acerto, acredito que estou no caminho certo, agora e fazer o teste final \n",
    "    accuracy=(correct/float(len(testSet))) * 100.0\n",
    "    return accuracy"
   ]
  },
  {
   "cell_type": "code",
   "execution_count": 24,
   "metadata": {},
   "outputs": [
    {
     "name": "stdout",
     "output_type": "stream",
     "text": [
      "Split 1025009 rows into train=25010 and test=999999 rows\n",
      "16662 \n",
      "\n",
      "Accuracy: 1.666201666201666%\n",
      "<class 'list'>\n",
      "8    161313\n",
      "4    161096\n",
      "5    158971\n",
      "6    154492\n",
      "7    136008\n",
      "9     84875\n",
      "2     73464\n",
      "3     47204\n",
      "0     11459\n",
      "1     11117\n",
      "Name: CLASS, dtype: int64\n"
     ]
    }
   ],
   "source": [
    "def main():\n",
    "# \tfilename = 'diabetes.csv'\n",
    "# \tsplitRatio = 0.67\n",
    "# \tstatus=-1\n",
    "# \tsituacao=-1\n",
    "    dataset = training_file\n",
    "# \ttrainingSet, testSet = splitDataset(dataset, splitRatio)\n",
    "    print('Split {0} rows into train={1} and test={2} rows'.format(len(training_file)+len(test_file), len(training_file), len(test_file)))\n",
    "    #prepare model\n",
    "    summaries = summarizeByClass(sumarizado)\n",
    "    # test model\n",
    "    predictions = getPredictions(summaries, test_file)\n",
    "    accuracy= getAccuracy(test_file, predictions)\n",
    "    print('Accuracy: {0}%'.format(accuracy))\n",
    "    print(type(predictions))\n",
    "    df =pd.DataFrame(predictions,columns =['CLASS'])\n",
    "    sc=df['CLASS'].value_counts()\n",
    "    print(sc)\n",
    "main()"
   ]
  },
  {
   "cell_type": "code",
   "execution_count": null,
   "metadata": {},
   "outputs": [],
   "source": []
  }
 ],
 "metadata": {
  "kernelspec": {
   "display_name": "Python 3",
   "language": "python",
   "name": "python3"
  },
  "language_info": {
   "codemirror_mode": {
    "name": "ipython",
    "version": 3
   },
   "file_extension": ".py",
   "mimetype": "text/x-python",
   "name": "python",
   "nbconvert_exporter": "python",
   "pygments_lexer": "ipython3",
   "version": "3.6.7"
  }
 },
 "nbformat": 4,
 "nbformat_minor": 4
}
