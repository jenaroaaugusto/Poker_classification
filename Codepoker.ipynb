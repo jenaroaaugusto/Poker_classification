{
 "cells": [
  {
   "cell_type": "code",
   "execution_count": 2,
   "metadata": {},
   "outputs": [],
   "source": [
    "import csv\n",
    "import math"
   ]
  },
  {
   "cell_type": "code",
   "execution_count": 3,
   "metadata": {},
   "outputs": [],
   "source": [
    "import pandas as pd"
   ]
  },
  {
   "cell_type": "code",
   "execution_count": 4,
   "metadata": {},
   "outputs": [],
   "source": [
    "training_file= pd.read_csv('poker-hand-training.data')\n",
    "teste_file =pd.read_csv('poker-hand-testing.data')\n"
   ]
  },
  {
   "cell_type": "code",
   "execution_count": null,
   "metadata": {},
   "outputs": [],
   "source": [
    " training_file.head()"
   ]
  },
  {
   "cell_type": "code",
   "execution_count": null,
   "metadata": {},
   "outputs": [],
   "source": [
    " training_file.describe()"
   ]
  },
  {
   "cell_type": "code",
   "execution_count": null,
   "metadata": {},
   "outputs": [],
   "source": [
    "training_file.dtypes"
   ]
  },
  {
   "cell_type": "code",
   "execution_count": null,
   "metadata": {},
   "outputs": [],
   "source": [
    "training_file.columns"
   ]
  },
  {
   "cell_type": "code",
   "execution_count": null,
   "metadata": {},
   "outputs": [],
   "source": [
    "#training_file[\"S1\"]"
   ]
  },
  {
   "cell_type": "code",
   "execution_count": null,
   "metadata": {},
   "outputs": [],
   "source": [
    "training_file[\"S1\"].value_counts()"
   ]
  },
  {
   "cell_type": "code",
   "execution_count": null,
   "metadata": {},
   "outputs": [],
   "source": [
    "training_file[\"CLASS\"].value_counts()"
   ]
  },
  {
   "cell_type": "code",
   "execution_count": null,
   "metadata": {},
   "outputs": [],
   "source": [
    "training_file.groupby(\"CLASS\").mean()"
   ]
  },
  {
   "cell_type": "code",
   "execution_count": 15,
   "metadata": {},
   "outputs": [],
   "source": [
    "df0=training_file[training_file[\"CLASS\"]==0]\n",
    "#print(df0)"
   ]
  },
  {
   "cell_type": "code",
   "execution_count": 16,
   "metadata": {},
   "outputs": [],
   "source": [
    "df1=training_file[training_file[\"CLASS\"]==1]\n",
    "#print(df1)"
   ]
  },
  {
   "cell_type": "code",
   "execution_count": 17,
   "metadata": {},
   "outputs": [],
   "source": [
    "df2=training_file[training_file[\"CLASS\"]==2]\n",
    "#print(df2)"
   ]
  },
  {
   "cell_type": "code",
   "execution_count": 18,
   "metadata": {},
   "outputs": [],
   "source": [
    "df3=training_file[training_file[\"CLASS\"]==3]\n",
    "#print(df3)"
   ]
  },
  {
   "cell_type": "code",
   "execution_count": 19,
   "metadata": {},
   "outputs": [],
   "source": [
    "df4=training_file[training_file[\"CLASS\"]==4]\n",
    "#print(df4)"
   ]
  },
  {
   "cell_type": "code",
   "execution_count": 20,
   "metadata": {},
   "outputs": [],
   "source": [
    "df5=training_file[training_file[\"CLASS\"]==5]\n",
    "#print(df5,'\\n')\n",
    "\n",
    "#print(len(df5))"
   ]
  },
  {
   "cell_type": "code",
   "execution_count": 21,
   "metadata": {},
   "outputs": [],
   "source": [
    "df6=training_file[training_file[\"CLASS\"]==6]\n",
    "#print(df6)"
   ]
  },
  {
   "cell_type": "code",
   "execution_count": 22,
   "metadata": {},
   "outputs": [],
   "source": [
    "df7=training_file[training_file[\"CLASS\"]==7]\n",
    "#print(df7)\n",
    "#print(len(df7))"
   ]
  },
  {
   "cell_type": "code",
   "execution_count": 23,
   "metadata": {},
   "outputs": [],
   "source": [
    "df8=training_file[training_file[\"CLASS\"]==8]\n",
    "#print(df8)"
   ]
  },
  {
   "cell_type": "code",
   "execution_count": 24,
   "metadata": {},
   "outputs": [],
   "source": [
    "df9=training_file[training_file[\"CLASS\"]==9]\n",
    "#print(df9)"
   ]
  },
  {
   "cell_type": "code",
   "execution_count": null,
   "metadata": {},
   "outputs": [],
   "source": [
    "df9.mean()"
   ]
  },
  {
   "cell_type": "code",
   "execution_count": null,
   "metadata": {},
   "outputs": [],
   "source": [
    "df9.mean(axis = 0)"
   ]
  },
  {
   "cell_type": "code",
   "execution_count": null,
   "metadata": {},
   "outputs": [],
   "source": [
    "df9.mean(axis = 1,skipna = True)"
   ]
  },
  {
   "cell_type": "code",
   "execution_count": null,
   "metadata": {},
   "outputs": [],
   "source": [
    "dx = pd.DataFrame([[1,20,1], [2,21,0], [3,22,1], [4,22,0]])\n",
    "dx"
   ]
  },
  {
   "cell_type": "code",
   "execution_count": null,
   "metadata": {},
   "outputs": [],
   "source": [
    "A=dx[dx[2]==1].mean(axis=0).tolist()\n",
    "B=dx[dx[2]==1].std().tolist()\n",
    "print(len(dx),'\\n')\n",
    "BD=[]\n",
    "for i in range(len(A)):    \n",
    "    BD.append(A[i])\n",
    "    BD.append(B[i]) \n",
    "    \n",
    "#B=dx[dx[2]==1].std()\n",
    "print(BD)"
   ]
  },
  {
   "cell_type": "code",
   "execution_count": null,
   "metadata": {},
   "outputs": [],
   "source": [
    "a=[]\n",
    "\n",
    "doc0=df0.to_dict()\n",
    "doc=df8.to_dict()\n",
    "doc2=df9.to_dict()\n",
    "a=a.append(df0)\n",
    "doc.update(doc2)\n",
    "#print (df8)\n",
    "#print(\"\\n\")\n",
    "#print(df9,'\\n')\n",
    "\n",
    "#print(doc,\"\\n\")\n",
    "\n",
    "#print(a)"
   ]
  },
  {
   "cell_type": "code",
   "execution_count": null,
   "metadata": {},
   "outputs": [],
   "source": [
    "x=df9.mean(axis=1).tolist()\n",
    "print(type(x))\n",
    "\n",
    "xb=[]\n",
    "xb=df9.values.tolist()\n",
    "xb"
   ]
  },
  {
   "cell_type": "code",
   "execution_count": 25,
   "metadata": {},
   "outputs": [],
   "source": [
    "summarizado={}\n",
    "#0\n",
    "AM9=[]\n",
    "SD9=[]\n",
    "AM9=df0.mean(axis=1).tolist()\n",
    "\n",
    "SD9=df0.std(axis=1).tolist()\n",
    "\n",
    "BD=[]\n",
    "for i in range(len(df0)):\n",
    "    BD.append(AM9[i])\n",
    "    BD.append(SD9[i])\n",
    "summarizado[0]=BD\n",
    "\n",
    "#1\n",
    "AM9=[]\n",
    "SD9=[]\n",
    "AM9=df1.mean(axis=1).tolist()\n",
    "\n",
    "SD9=df1.std(axis=1).tolist()\n",
    "\n",
    "BD=[]\n",
    "for i in range(len(df1)):\n",
    "    BD.append(AM9[i])\n",
    "    BD.append(SD9[i])\n",
    "summarizado[1]=BD\n",
    "#2\n",
    "AM9=[]\n",
    "SD9=[]\n",
    "AM9=df2.mean(axis=1).tolist()\n",
    "\n",
    "SD9=df2.std(axis=1).tolist()\n",
    "\n",
    "BD=[]\n",
    "for i in range(len(df2)):\n",
    "    BD.append(AM9[i])\n",
    "    BD.append(SD9[i])\n",
    "summarizado[2]=BD\n",
    "\n",
    "#3\n",
    "AM9=[]\n",
    "SD9=[]\n",
    "AM9=df3.mean(axis=1).tolist()\n",
    "\n",
    "SD9=df3.std(axis=1).tolist()\n",
    "\n",
    "BD=[]\n",
    "for i in range(len(df3)):\n",
    "    BD.append(AM9[i])\n",
    "    BD.append(SD9[i])\n",
    "summarizado[3]=BD\n",
    "#4\n",
    "AM9=[]\n",
    "SD9=[]\n",
    "AM9=df4.mean(axis=1).tolist()\n",
    "\n",
    "SD9=df4.std(axis=1).tolist()\n",
    "\n",
    "BD=[]\n",
    "for i in range(len(df8)):\n",
    "    BD.append(AM9[i])\n",
    "    BD.append(SD9[i])\n",
    "summarizado[4]=BD\n",
    "#5\n",
    "AM9=[]\n",
    "SD9=[]\n",
    "AM9=df5.mean(axis=1).tolist()\n",
    "\n",
    "SD9=df5.std(axis=1).tolist()\n",
    "\n",
    "BD=[]\n",
    "for i in range(len(df5)):\n",
    "    BD.append(AM9[i])\n",
    "    BD.append(SD9[i])\n",
    "summarizado[5]=BD\n",
    "#6\n",
    "AM9=[]\n",
    "SD9=[]\n",
    "AM9=df6.mean(axis=1).tolist()\n",
    "\n",
    "SD9=df6.std(axis=1).tolist()\n",
    "\n",
    "BD=[]\n",
    "for i in range(len(df6)):\n",
    "    BD.append(AM9[i])\n",
    "    BD.append(SD9[i])\n",
    "summarizado[6]=BD\n",
    "\n",
    "\n",
    "AM9=[]\n",
    "SD9=[]\n",
    "AM9=df7.mean(axis=1).tolist()\n",
    "\n",
    "SD9=df7.std(axis=1).tolist()\n",
    "#7\n",
    "BD=[]\n",
    "for i in range(len(df7)):\n",
    "    BD.append(AM9[i])\n",
    "    BD.append(SD9[i])\n",
    "summarizado[7]=BD\n",
    "#8\n",
    "AM9=[]\n",
    "SD9=[]\n",
    "AM9=df8.mean(axis=1).tolist()\n",
    "\n",
    "SD9=df8.std(axis=1).tolist()\n",
    "\n",
    "BD=[]\n",
    "for i in range(len(df8)):\n",
    "    BD.append(AM9[i])\n",
    "    BD.append(SD9[i])\n",
    "summarizado[8]=BD\n",
    "AM9=[]\n",
    "SD9=[]\n",
    "AM9=df9.mean(axis=1).tolist()\n",
    "SD9=df9.std(axis=1).tolist()\n",
    "BD=[]\n",
    "for i in range(len(df9)):\n",
    "    BD.append(AM9[i])\n",
    "    BD.append(SD9[i])\n",
    "summarizado[9]=BD\n",
    "\n",
    "#print(\"DIC\",summarizado,len(summarizado))"
   ]
  },
  {
   "cell_type": "code",
   "execution_count": 18,
   "metadata": {},
   "outputs": [],
   "source": []
  },
  {
   "cell_type": "code",
   "execution_count": 30,
   "metadata": {},
   "outputs": [],
   "source": [
    "test_file=teste_file.values.tolist()"
   ]
  },
  {
   "cell_type": "code",
   "execution_count": 26,
   "metadata": {},
   "outputs": [],
   "source": [
    "def CalcularPro(x,madia,desvio):\n",
    "    exponent = math.exp(-(math.pow(x-madia,2)/(2*math.pow(desvio,2))))\n",
    "    return (1 / (math.sqrt(2*math.pi) * stdev)) * expoente"
   ]
  },
  {
   "cell_type": "code",
   "execution_count": 27,
   "metadata": {},
   "outputs": [],
   "source": [
    "def provabilidesporclass(summarizado,test_file):\n",
    "    probabilidades={}\n",
    "    for classe ,clasummarizado in summarizado.items():\n",
    "        probabilidades[classe]=1\n",
    "        for i in range(len(clasummarizado)):\n",
    "            media,desvio= clasummarizado[i]\n",
    "            x = test_file[i]\n",
    "            probabilidades[classe]*=CalcularPro(x,media,desvio)\n",
    "    \n",
    "    return probabilidades"
   ]
  },
  {
   "cell_type": "code",
   "execution_count": 28,
   "metadata": {},
   "outputs": [],
   "source": [
    "def previsao(summarizado, teste_file):\n",
    "    probabilidades=provabilidesporclass(summarizado,teste_file)\n",
    "    MelhorLegenda,melhorpro=None,-1\n",
    "    for Classe, pro in probabilidades.items():\n",
    "        if MelhorLegenda is None or pro> melhorpro:\n",
    "            melhorpro=pro\n",
    "            MelhorLegenda=Classe\n",
    "            \n",
    "    return MelhorLegenda\n",
    "    print(teste_file)"
   ]
  },
  {
   "cell_type": "code",
   "execution_count": 34,
   "metadata": {},
   "outputs": [
    {
     "ename": "TypeError",
     "evalue": "'float' object is not iterable",
     "output_type": "error",
     "traceback": [
      "\u001b[1;31m---------------------------------------------------------------------------\u001b[0m",
      "\u001b[1;31mTypeError\u001b[0m                                 Traceback (most recent call last)",
      "\u001b[1;32m<ipython-input-34-a05cf4236e43>\u001b[0m in \u001b[0;36m<module>\u001b[1;34m\u001b[0m\n\u001b[0;32m      7\u001b[0m     \u001b[1;32mreturn\u001b[0m \u001b[0mprevisao\u001b[0m\u001b[1;33m\u001b[0m\u001b[1;33m\u001b[0m\u001b[0m\n\u001b[0;32m      8\u001b[0m \u001b[0mpreve\u001b[0m\u001b[1;33m=\u001b[0m\u001b[1;33m[\u001b[0m\u001b[1;33m]\u001b[0m\u001b[1;33m\u001b[0m\u001b[1;33m\u001b[0m\u001b[0m\n\u001b[1;32m----> 9\u001b[1;33m \u001b[0mpreve\u001b[0m\u001b[1;33m=\u001b[0m \u001b[0mgetPredictions\u001b[0m\u001b[1;33m(\u001b[0m\u001b[0msummarizado\u001b[0m\u001b[1;33m,\u001b[0m \u001b[0mtest_file\u001b[0m\u001b[1;33m)\u001b[0m\u001b[1;33m\u001b[0m\u001b[1;33m\u001b[0m\u001b[0m\n\u001b[0m\u001b[0;32m     10\u001b[0m \u001b[0mprint\u001b[0m\u001b[1;33m(\u001b[0m\u001b[0mpreve\u001b[0m\u001b[1;33m)\u001b[0m\u001b[1;33m\u001b[0m\u001b[1;33m\u001b[0m\u001b[0m\n",
      "\u001b[1;32m<ipython-input-34-a05cf4236e43>\u001b[0m in \u001b[0;36mgetPredictions\u001b[1;34m(summarizado, teste_file)\u001b[0m\n\u001b[0;32m      3\u001b[0m \u001b[1;33m\u001b[0m\u001b[0m\n\u001b[0;32m      4\u001b[0m     \u001b[1;32mfor\u001b[0m \u001b[0mi\u001b[0m \u001b[1;32min\u001b[0m \u001b[0mrange\u001b[0m\u001b[1;33m(\u001b[0m\u001b[0mlen\u001b[0m\u001b[1;33m(\u001b[0m\u001b[0mteste_file\u001b[0m\u001b[1;33m)\u001b[0m\u001b[1;33m)\u001b[0m\u001b[1;33m:\u001b[0m\u001b[1;33m\u001b[0m\u001b[1;33m\u001b[0m\u001b[0m\n\u001b[1;32m----> 5\u001b[1;33m         \u001b[0mresultado\u001b[0m\u001b[1;33m=\u001b[0m\u001b[0mprevisao\u001b[0m\u001b[1;33m(\u001b[0m\u001b[0msummarizado\u001b[0m\u001b[1;33m,\u001b[0m\u001b[0mteste_file\u001b[0m\u001b[1;33m[\u001b[0m\u001b[0mi\u001b[0m\u001b[1;33m]\u001b[0m\u001b[1;33m)\u001b[0m\u001b[1;33m\u001b[0m\u001b[1;33m\u001b[0m\u001b[0m\n\u001b[0m\u001b[0;32m      6\u001b[0m         \u001b[0mprevisoes\u001b[0m\u001b[1;33m.\u001b[0m\u001b[0mappend\u001b[0m\u001b[1;33m(\u001b[0m\u001b[0mresultado\u001b[0m\u001b[1;33m)\u001b[0m\u001b[1;33m\u001b[0m\u001b[1;33m\u001b[0m\u001b[0m\n\u001b[0;32m      7\u001b[0m     \u001b[1;32mreturn\u001b[0m \u001b[0mprevisao\u001b[0m\u001b[1;33m\u001b[0m\u001b[1;33m\u001b[0m\u001b[0m\n",
      "\u001b[1;32m<ipython-input-28-18a33e876ed0>\u001b[0m in \u001b[0;36mprevisao\u001b[1;34m(summarizado, teste_file)\u001b[0m\n\u001b[0;32m      1\u001b[0m \u001b[1;32mdef\u001b[0m \u001b[0mprevisao\u001b[0m\u001b[1;33m(\u001b[0m\u001b[0msummarizado\u001b[0m\u001b[1;33m,\u001b[0m \u001b[0mteste_file\u001b[0m\u001b[1;33m)\u001b[0m\u001b[1;33m:\u001b[0m\u001b[1;33m\u001b[0m\u001b[1;33m\u001b[0m\u001b[0m\n\u001b[1;32m----> 2\u001b[1;33m     \u001b[0mprobabilidades\u001b[0m\u001b[1;33m=\u001b[0m\u001b[0mprovabilidesporclass\u001b[0m\u001b[1;33m(\u001b[0m\u001b[0msummarizado\u001b[0m\u001b[1;33m,\u001b[0m\u001b[0mteste_file\u001b[0m\u001b[1;33m)\u001b[0m\u001b[1;33m\u001b[0m\u001b[1;33m\u001b[0m\u001b[0m\n\u001b[0m\u001b[0;32m      3\u001b[0m     \u001b[0mMelhorLegenda\u001b[0m\u001b[1;33m,\u001b[0m\u001b[0mmelhorpro\u001b[0m\u001b[1;33m=\u001b[0m\u001b[1;32mNone\u001b[0m\u001b[1;33m,\u001b[0m\u001b[1;33m-\u001b[0m\u001b[1;36m1\u001b[0m\u001b[1;33m\u001b[0m\u001b[1;33m\u001b[0m\u001b[0m\n\u001b[0;32m      4\u001b[0m     \u001b[1;32mfor\u001b[0m \u001b[0mClasse\u001b[0m\u001b[1;33m,\u001b[0m \u001b[0mpro\u001b[0m \u001b[1;32min\u001b[0m \u001b[0mprobabilidades\u001b[0m\u001b[1;33m.\u001b[0m\u001b[0mitems\u001b[0m\u001b[1;33m(\u001b[0m\u001b[1;33m)\u001b[0m\u001b[1;33m:\u001b[0m\u001b[1;33m\u001b[0m\u001b[1;33m\u001b[0m\u001b[0m\n\u001b[0;32m      5\u001b[0m         \u001b[1;32mif\u001b[0m \u001b[0mMelhorLegenda\u001b[0m \u001b[1;32mis\u001b[0m \u001b[1;32mNone\u001b[0m \u001b[1;32mor\u001b[0m \u001b[0mpro\u001b[0m\u001b[1;33m>\u001b[0m \u001b[0mmelhorpro\u001b[0m\u001b[1;33m:\u001b[0m\u001b[1;33m\u001b[0m\u001b[1;33m\u001b[0m\u001b[0m\n",
      "\u001b[1;32m<ipython-input-27-9ebb28c12d54>\u001b[0m in \u001b[0;36mprovabilidesporclass\u001b[1;34m(summarizado, test_file)\u001b[0m\n\u001b[0;32m      4\u001b[0m         \u001b[0mprobabilidades\u001b[0m\u001b[1;33m[\u001b[0m\u001b[0mclasse\u001b[0m\u001b[1;33m]\u001b[0m\u001b[1;33m=\u001b[0m\u001b[1;36m1\u001b[0m\u001b[1;33m\u001b[0m\u001b[1;33m\u001b[0m\u001b[0m\n\u001b[0;32m      5\u001b[0m         \u001b[1;32mfor\u001b[0m \u001b[0mi\u001b[0m \u001b[1;32min\u001b[0m \u001b[0mrange\u001b[0m\u001b[1;33m(\u001b[0m\u001b[0mlen\u001b[0m\u001b[1;33m(\u001b[0m\u001b[0mclasummarizado\u001b[0m\u001b[1;33m)\u001b[0m\u001b[1;33m)\u001b[0m\u001b[1;33m:\u001b[0m\u001b[1;33m\u001b[0m\u001b[1;33m\u001b[0m\u001b[0m\n\u001b[1;32m----> 6\u001b[1;33m             \u001b[0mmedia\u001b[0m\u001b[1;33m,\u001b[0m\u001b[0mdesvio\u001b[0m\u001b[1;33m=\u001b[0m \u001b[0mclasummarizado\u001b[0m\u001b[1;33m[\u001b[0m\u001b[0mi\u001b[0m\u001b[1;33m]\u001b[0m\u001b[1;33m\u001b[0m\u001b[1;33m\u001b[0m\u001b[0m\n\u001b[0m\u001b[0;32m      7\u001b[0m             \u001b[0mx\u001b[0m \u001b[1;33m=\u001b[0m \u001b[0mtest_file\u001b[0m\u001b[1;33m[\u001b[0m\u001b[0mi\u001b[0m\u001b[1;33m]\u001b[0m\u001b[1;33m\u001b[0m\u001b[1;33m\u001b[0m\u001b[0m\n\u001b[0;32m      8\u001b[0m             \u001b[0mprobabilidades\u001b[0m\u001b[1;33m[\u001b[0m\u001b[0mclasse\u001b[0m\u001b[1;33m]\u001b[0m\u001b[1;33m*=\u001b[0m\u001b[0mCalcularPro\u001b[0m\u001b[1;33m(\u001b[0m\u001b[0mx\u001b[0m\u001b[1;33m,\u001b[0m\u001b[0mmedia\u001b[0m\u001b[1;33m,\u001b[0m\u001b[0mdesvio\u001b[0m\u001b[1;33m)\u001b[0m\u001b[1;33m\u001b[0m\u001b[1;33m\u001b[0m\u001b[0m\n",
      "\u001b[1;31mTypeError\u001b[0m: 'float' object is not iterable"
     ]
    }
   ],
   "source": [
    "def getPredictions(summarizado, teste_file):\n",
    "    previsoes=[]\n",
    "   \n",
    "    for i in range(len(teste_file)):\n",
    "        resultado=previsao(summarizado,teste_file[i])\n",
    "        previsoes.append(resultado)\n",
    "    return previsao\n",
    "preve=[]\n",
    "preve= getPredictions(summarizado, test_file)\n",
    "print(preve)"
   ]
  },
  {
   "cell_type": "code",
   "execution_count": null,
   "metadata": {},
   "outputs": [],
   "source": []
  },
  {
   "cell_type": "code",
   "execution_count": null,
   "metadata": {},
   "outputs": [],
   "source": []
  },
  {
   "cell_type": "code",
   "execution_count": null,
   "metadata": {},
   "outputs": [],
   "source": []
  }
 ],
 "metadata": {
  "kernelspec": {
   "display_name": "Python 3",
   "language": "python",
   "name": "python3"
  },
  "language_info": {
   "codemirror_mode": {
    "name": "ipython",
    "version": 3
   },
   "file_extension": ".py",
   "mimetype": "text/x-python",
   "name": "python",
   "nbconvert_exporter": "python",
   "pygments_lexer": "ipython3",
   "version": "3.6.7"
  }
 },
 "nbformat": 4,
 "nbformat_minor": 4
}
