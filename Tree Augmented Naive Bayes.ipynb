{
 "nbformat": 4,
 "nbformat_minor": 2,
 "metadata": {
  "language_info": {
   "name": "python",
   "codemirror_mode": {
    "name": "ipython",
    "version": 3
   },
   "version": "3.7.1"
  },
  "orig_nbformat": 2,
  "file_extension": ".py",
  "mimetype": "text/x-python",
  "name": "python",
  "npconvert_exporter": "python",
  "pygments_lexer": "ipython3",
  "version": 3
 },
 "cells": [
  {
   "source": [
    "df=pd.read_csv(\"poker_csv.csv\")\n",
    "df[\"CLASS\"].value_counts()"
   ],
   "cell_type": "code",
   "outputs": [
    {
     "output_type": "execute_result",
     "data": {
      "text/plain": "0    513702\n1    433097\n2     48828\n3     21634\n4      3978\n5      2050\n6      1460\n7       236\n8        17\n9         8\nName: CLASS, dtype: int64"
     },
     "metadata": {},
     "execution_count": 51
    }
   ],
   "metadata": {},
   "execution_count": 51
  },
  {
   "source": [
    "df[\"CLASS\"]=df[\"CLASS\"].replace(0,\"Nothing in hand\")\n",
    "df[\"CLASS\"]=df[\"CLASS\"].replace(1,\"One pair\")\n",
    "df[\"CLASS\"]=df[\"CLASS\"].replace(2,\"Two pairs\")\n",
    "df[\"CLASS\"]=df[\"CLASS\"].replace(3,\"Three of a kind\")\n",
    "df[\"CLASS\"]=df[\"CLASS\"].replace(4,\"Straight\")\n",
    "df[\"CLASS\"]=df[\"CLASS\"].replace(5,\"Flush\")\n",
    "df[\"CLASS\"]=df[\"CLASS\"].replace(6,\"Full house\")\n",
    "df[\"CLASS\"]=df[\"CLASS\"].replace(7,\"Four of a kind\")\n",
    "df[\"CLASS\"]=df[\"CLASS\"].replace(8,\"Straight flush\")\n",
    "df[\"CLASS\"]=df[\"CLASS\"].replace(9,\"Royal flush\")\n",
    ""
   ],
   "cell_type": "code",
   "outputs": [],
   "metadata": {},
   "execution_count": 48
  },
  {
   "source": [
    "df.to_csv(r'nomeado.csv', index = None, header=True)"
   ],
   "cell_type": "code",
   "outputs": [],
   "metadata": {},
   "execution_count": 50
  },
  {
   "cell_type": "code",
   "execution_count": null,
   "metadata": {},
   "outputs": [],
   "source": []
  },
  {
   "source": [
    "import pandas as pd"
   ],
   "cell_type": "code",
   "outputs": [],
   "metadata": {},
   "execution_count": 33
  }
 ]
}